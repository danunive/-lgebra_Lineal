{
  "nbformat": 4,
  "nbformat_minor": 0,
  "metadata": {
    "colab": {
      "name": "Aprender sobre Numpy.ipynb",
      "provenance": [],
      "authorship_tag": "ABX9TyNx1rC6PGP/KflMXa9XQl/q",
      "include_colab_link": true
    },
    "kernelspec": {
      "name": "python3",
      "display_name": "Python 3"
    }
  },
  "cells": [
    {
      "cell_type": "markdown",
      "metadata": {
        "id": "view-in-github",
        "colab_type": "text"
      },
      "source": [
        "<a href=\"https://colab.research.google.com/github/danunive/-lgebra_Lineal/blob/master/Aprender_sobre_Numpy.ipynb\" target=\"_parent\"><img src=\"https://colab.research.google.com/assets/colab-badge.svg\" alt=\"Open In Colab\"/></a>"
      ]
    },
    {
      "cell_type": "markdown",
      "metadata": {
        "id": "aMpzZStZCD3v"
      },
      "source": [
        "# **Recursos** **Numpy:**\n",
        "\n",
        "1.   https://numpy.org/devdocs/user/absolute_beginners.html\n",
        "2.   https://www.youtube.com/watch?v=GB9ByFAIAH4\n",
        "\n",
        "3.   https://damianavila.github.io/Python-Cientifico-HCC/3_NumPy.html\n",
        "\n",
        "\n",
        "\n",
        "\n",
        "\n"
      ]
    },
    {
      "cell_type": "markdown",
      "metadata": {
        "id": "fkyx4qXNlyBC"
      },
      "source": [
        "# **Listas:**\n",
        "- Colección de datos\n",
        "- Puede tener diferentes tipos de datos"
      ]
    },
    {
      "cell_type": "markdown",
      "metadata": {
        "id": "eR8ihsdmnts0"
      },
      "source": [
        "# **Numpy:**\n",
        "- Numeric Python\n",
        "- Librería de Python\n",
        "- Alternativa a las listas de python Numpy array\n",
        "- Puedes hacer operaciones para cada elemento del array\n",
        "- Tiene un único tipo de datos\n",
        "\n",
        "\n"
      ]
    },
    {
      "cell_type": "code",
      "metadata": {
        "id": "RzhFOz9uoXkW"
      },
      "source": [
        "import numpy as np #Importamos la librería de numpy "
      ],
      "execution_count": null,
      "outputs": []
    },
    {
      "cell_type": "code",
      "metadata": {
        "colab": {
          "base_uri": "https://localhost:8080/"
        },
        "id": "iAeoGKKJpDHV",
        "outputId": "5771a263-70b5-4e92-b2fc-8050f6bb7366"
      },
      "source": [
        "#Vamos a crear una lista\n",
        "estatura = [1.73, 1.68,1.71, 1.89, 1.79]\n",
        "print(estatura) #Imprimir la lista\n",
        "peso = [65.4,59.2,63.6, 88.4, 68.7]\n",
        "print(peso)"
      ],
      "execution_count": null,
      "outputs": [
        {
          "output_type": "stream",
          "text": [
            "[1.73, 1.68, 1.71, 1.89, 1.79]\n",
            "[65.4, 59.2, 63.6, 88.4, 68.7]\n"
          ],
          "name": "stdout"
        }
      ]
    },
    {
      "cell_type": "code",
      "metadata": {
        "colab": {
          "base_uri": "https://localhost:8080/"
        },
        "id": "_uGN1Znto95j",
        "outputId": "f6378d2d-3ddb-4788-ca6c-92d4c56915db"
      },
      "source": [
        "#Vamos a convertir la lista a un array de 1dimensión\n",
        "np_estatura = np.array(estatura)\n",
        "np_estatura.size ## número total de elementos"
      ],
      "execution_count": null,
      "outputs": [
        {
          "output_type": "execute_result",
          "data": {
            "text/plain": [
              "5"
            ]
          },
          "metadata": {
            "tags": []
          },
          "execution_count": 5
        }
      ]
    },
    {
      "cell_type": "code",
      "metadata": {
        "colab": {
          "base_uri": "https://localhost:8080/"
        },
        "id": "heXRzspqNFwX",
        "outputId": "9fbbd162-68db-4c1b-dbde-3c5f6d1a4e0f"
      },
      "source": [
        "#Vamos a convertir la lista a un array de 1dimensión\n",
        "np_peso = np.array(peso)\n",
        "np_peso.size"
      ],
      "execution_count": null,
      "outputs": [
        {
          "output_type": "execute_result",
          "data": {
            "text/plain": [
              "5"
            ]
          },
          "metadata": {
            "tags": []
          },
          "execution_count": 6
        }
      ]
    },
    {
      "cell_type": "code",
      "metadata": {
        "colab": {
          "base_uri": "https://localhost:8080/"
        },
        "id": "6SvbqUKcNXYY",
        "outputId": "2dd97490-3c15-4706-be83-d3129da72c1c"
      },
      "source": [
        "#¿Cómo podemos obtener la dimensión?\n",
        "np_estatura.ndim"
      ],
      "execution_count": null,
      "outputs": [
        {
          "output_type": "execute_result",
          "data": {
            "text/plain": [
              "1"
            ]
          },
          "metadata": {
            "tags": []
          },
          "execution_count": 7
        }
      ]
    },
    {
      "cell_type": "code",
      "metadata": {
        "colab": {
          "base_uri": "https://localhost:8080/"
        },
        "id": "SHhLlWWaODtv",
        "outputId": "a8114d8d-5d93-4690-fc5e-d5c65b94c9ad"
      },
      "source": [
        "#¿cómo podemos saber el tipo de datos del array?\n",
        "np_estatura.dtype"
      ],
      "execution_count": null,
      "outputs": [
        {
          "output_type": "execute_result",
          "data": {
            "text/plain": [
              "dtype('float64')"
            ]
          },
          "metadata": {
            "tags": []
          },
          "execution_count": 8
        }
      ]
    },
    {
      "cell_type": "markdown",
      "metadata": {
        "id": "eEV9Q5PXF6DW"
      },
      "source": [
        "# **Operaciones**"
      ]
    },
    {
      "cell_type": "code",
      "metadata": {
        "colab": {
          "base_uri": "https://localhost:8080/"
        },
        "id": "AvJ-ew3ntBgf",
        "outputId": "d312fd93-9805-40e8-9f8e-2b39cf5296eb"
      },
      "source": [
        "#¿Podemos sumar dos listas?\n",
        "lista = [1,2,3]\n",
        "lista2 = [5,6,'hola']\n",
        "lista + lista2 #(¿cuál resultado tengo al sumar dos listas?)"
      ],
      "execution_count": null,
      "outputs": [
        {
          "output_type": "execute_result",
          "data": {
            "text/plain": [
              "[1, 2, 3, 5, 6, 'hola']"
            ]
          },
          "metadata": {
            "tags": []
          },
          "execution_count": 9
        }
      ]
    },
    {
      "cell_type": "code",
      "metadata": {
        "colab": {
          "base_uri": "https://localhost:8080/"
        },
        "id": "djLVYM762f2C",
        "outputId": "c3cb2185-5e18-4672-c72a-bf3682a10da8"
      },
      "source": [
        "lista*2"
      ],
      "execution_count": null,
      "outputs": [
        {
          "output_type": "execute_result",
          "data": {
            "text/plain": [
              "[1, 2, 3, 1, 2, 3]"
            ]
          },
          "metadata": {
            "tags": []
          },
          "execution_count": 10
        }
      ]
    },
    {
      "cell_type": "code",
      "metadata": {
        "id": "TJ75GAHiGeQ9"
      },
      "source": [
        "#¿Podemos sumar dos array?"
      ],
      "execution_count": null,
      "outputs": []
    },
    {
      "cell_type": "code",
      "metadata": {
        "colab": {
          "base_uri": "https://localhost:8080/",
          "height": 225
        },
        "id": "nSfn6VgltCEH",
        "outputId": "08e6a148-204e-4e4f-a96c-b83cd939e917"
      },
      "source": [
        "np_lista = np.array(lista) #Convertimos de lista --> array\n",
        "np_lista2 = np.array(lista2) #Convertimos de lista --> array\n",
        "np_lista - np_lista2/2"
      ],
      "execution_count": null,
      "outputs": [
        {
          "output_type": "error",
          "ename": "TypeError",
          "evalue": "ignored",
          "traceback": [
            "\u001b[0;31m---------------------------------------------------------------------------\u001b[0m",
            "\u001b[0;31mTypeError\u001b[0m                                 Traceback (most recent call last)",
            "\u001b[0;32m<ipython-input-23-1d06ca6e1bf4>\u001b[0m in \u001b[0;36m<module>\u001b[0;34m()\u001b[0m\n\u001b[1;32m      1\u001b[0m \u001b[0mnp_lista\u001b[0m \u001b[0;34m=\u001b[0m \u001b[0mnp\u001b[0m\u001b[0;34m.\u001b[0m\u001b[0marray\u001b[0m\u001b[0;34m(\u001b[0m\u001b[0mlista\u001b[0m\u001b[0;34m)\u001b[0m \u001b[0;31m#Convertimos de lista --> array\u001b[0m\u001b[0;34m\u001b[0m\u001b[0;34m\u001b[0m\u001b[0m\n\u001b[1;32m      2\u001b[0m \u001b[0mnp_lista2\u001b[0m \u001b[0;34m=\u001b[0m \u001b[0mnp\u001b[0m\u001b[0;34m.\u001b[0m\u001b[0marray\u001b[0m\u001b[0;34m(\u001b[0m\u001b[0mlista2\u001b[0m\u001b[0;34m)\u001b[0m \u001b[0;31m#Convertimos de lista --> array\u001b[0m\u001b[0;34m\u001b[0m\u001b[0;34m\u001b[0m\u001b[0m\n\u001b[0;32m----> 3\u001b[0;31m \u001b[0mnp_lista\u001b[0m \u001b[0;34m-\u001b[0m \u001b[0mnp_lista2\u001b[0m\u001b[0;34m/\u001b[0m\u001b[0;36m2\u001b[0m\u001b[0;34m\u001b[0m\u001b[0;34m\u001b[0m\u001b[0m\n\u001b[0m",
            "\u001b[0;31mTypeError\u001b[0m: ufunc 'true_divide' not supported for the input types, and the inputs could not be safely coerced to any supported types according to the casting rule ''safe''"
          ]
        }
      ]
    },
    {
      "cell_type": "code",
      "metadata": {
        "colab": {
          "base_uri": "https://localhost:8080/"
        },
        "id": "lEhmAg5s6N6R",
        "outputId": "8dea8efa-e91b-4b47-8b9b-8bb784a66ae1"
      },
      "source": [
        "#Calculamos el BMI\n",
        "bmi = np_peso / (np_estatura**2)\n",
        "print(bmi)"
      ],
      "execution_count": null,
      "outputs": [
        {
          "output_type": "stream",
          "text": [
            "[21.85171573 20.97505669 21.75028214 24.7473475  21.44127836]\n"
          ],
          "name": "stdout"
        }
      ]
    },
    {
      "cell_type": "code",
      "metadata": {
        "colab": {
          "base_uri": "https://localhost:8080/"
        },
        "id": "by8oWH9VtNIb",
        "outputId": "828e9974-0556-4044-ec13-2e9740980a72"
      },
      "source": [
        "¿Cuál es el primer elemento del array?\n",
        "bmi[0]\n",
        "#bmi[1]"
      ],
      "execution_count": null,
      "outputs": [
        {
          "output_type": "stream",
          "text": [
            "Object `array` not found.\n"
          ],
          "name": "stdout"
        },
        {
          "output_type": "execute_result",
          "data": {
            "text/plain": [
              "21.85171572722109"
            ]
          },
          "metadata": {
            "tags": []
          },
          "execution_count": 14
        }
      ]
    },
    {
      "cell_type": "code",
      "metadata": {
        "colab": {
          "base_uri": "https://localhost:8080/"
        },
        "id": "7Jt9HSJlHpe9",
        "outputId": "47e0f2fd-b808-4efa-f382-cdfe61b42cce"
      },
      "source": [
        "#Puedo saber cuales son los BMI mayores a 23\n",
        "bmi > 23"
      ],
      "execution_count": null,
      "outputs": [
        {
          "output_type": "execute_result",
          "data": {
            "text/plain": [
              "array([False, False, False,  True, False])"
            ]
          },
          "metadata": {
            "tags": []
          },
          "execution_count": 15
        }
      ]
    },
    {
      "cell_type": "code",
      "metadata": {
        "colab": {
          "base_uri": "https://localhost:8080/"
        },
        "id": "pjxEC6njtnZy",
        "outputId": "24617fc7-4d8f-4c9c-8e58-e9e64d3bebef"
      },
      "source": [
        "bmi[bmi>23]"
      ],
      "execution_count": null,
      "outputs": [
        {
          "output_type": "execute_result",
          "data": {
            "text/plain": [
              "array([24.7473475])"
            ]
          },
          "metadata": {
            "tags": []
          },
          "execution_count": 16
        }
      ]
    },
    {
      "cell_type": "markdown",
      "metadata": {
        "id": "0HNQNzdZH4_c"
      },
      "source": [
        "# **2D Numpy array**"
      ]
    },
    {
      "cell_type": "code",
      "metadata": {
        "colab": {
          "base_uri": "https://localhost:8080/"
        },
        "id": "FmbZemZ6hnkZ",
        "outputId": "d5f4e916-845d-4c73-9a9e-d52eeeb8c6fa"
      },
      "source": [
        "#Puedo crear un array 2D con la estatura y el peso\n",
        "np_medidas = np.array([[estatura],[peso]])\n",
        "print(np_medidas)"
      ],
      "execution_count": null,
      "outputs": [
        {
          "output_type": "stream",
          "text": [
            "[[[ 1.73  1.68  1.71  1.89  1.79]]\n",
            "\n",
            " [[65.4  59.2  63.6  88.4  68.7 ]]]\n"
          ],
          "name": "stdout"
        }
      ]
    },
    {
      "cell_type": "code",
      "metadata": {
        "id": "sQHEeLrVv5ON"
      },
      "source": [
        "#2D Numpy Arrays  --> tiene dos \n",
        "np_2d = np.array([[1.73,1.68,1.71,1.89,1.79],\n",
        "                  [65.4,59.2,63.6,88.4,68.7]])"
      ],
      "execution_count": null,
      "outputs": []
    },
    {
      "cell_type": "code",
      "metadata": {
        "colab": {
          "base_uri": "https://localhost:8080/"
        },
        "id": "zhQ47l8nwUul",
        "outputId": "caa8cd17-612e-4c1d-b59d-5f15a64f60b1"
      },
      "source": [
        "np_2d"
      ],
      "execution_count": null,
      "outputs": [
        {
          "output_type": "execute_result",
          "data": {
            "text/plain": [
              "array([[ 1.73,  1.68,  1.71,  1.89,  1.79],\n",
              "       [65.4 , 59.2 , 63.6 , 88.4 , 68.7 ]])"
            ]
          },
          "metadata": {
            "tags": []
          },
          "execution_count": 39
        }
      ]
    },
    {
      "cell_type": "code",
      "metadata": {
        "colab": {
          "base_uri": "https://localhost:8080/"
        },
        "id": "p6IR8Y2Uf322",
        "outputId": "c593171a-b42c-453f-8e52-326befff3768"
      },
      "source": [
        "type(np_2d)"
      ],
      "execution_count": null,
      "outputs": [
        {
          "output_type": "execute_result",
          "data": {
            "text/plain": [
              "numpy.ndarray"
            ]
          },
          "metadata": {
            "tags": []
          },
          "execution_count": 18
        }
      ]
    },
    {
      "cell_type": "code",
      "metadata": {
        "colab": {
          "base_uri": "https://localhost:8080/"
        },
        "id": "P1QxdCrRwYwN",
        "outputId": "81fc4a99-3b6c-4b53-c28d-8e211a778394"
      },
      "source": [
        "np_2d.shape ## Shape es un atributo de np_2d array"
      ],
      "execution_count": null,
      "outputs": [
        {
          "output_type": "execute_result",
          "data": {
            "text/plain": [
              "(2, 5)"
            ]
          },
          "metadata": {
            "tags": []
          },
          "execution_count": 19
        }
      ]
    },
    {
      "cell_type": "markdown",
      "metadata": {
        "id": "zSsuEjj_Rj8c"
      },
      "source": [
        "# **Obtener un elemento** [Fila, Columna]\n",
        "\n",
        "a[Inicio:fin] \n",
        "\n",
        "a[inicio:]  \n",
        "\n",
        "a[:fin]  "
      ]
    },
    {
      "cell_type": "code",
      "metadata": {
        "colab": {
          "base_uri": "https://localhost:8080/",
          "height": 175
        },
        "id": "etNIUZOOwbkV",
        "outputId": "4d1de999-f69b-4c48-d7c1-5a589b5e4c63"
      },
      "source": [
        "##¿Cómo puedo traer el elemento de la posición fila 0, posición columna 2?\n",
        "np_2d[0][2]"
      ],
      "execution_count": 4,
      "outputs": [
        {
          "output_type": "error",
          "ename": "NameError",
          "evalue": "ignored",
          "traceback": [
            "\u001b[0;31m---------------------------------------------------------------------------\u001b[0m",
            "\u001b[0;31mNameError\u001b[0m                                 Traceback (most recent call last)",
            "\u001b[0;32m<ipython-input-4-137489611d11>\u001b[0m in \u001b[0;36m<module>\u001b[0;34m()\u001b[0m\n\u001b[1;32m      1\u001b[0m \u001b[0;31m##¿Cómo puedo traer el elemento de la posición fila 0, posición columna 2?\u001b[0m\u001b[0;34m\u001b[0m\u001b[0;34m\u001b[0m\u001b[0;34m\u001b[0m\u001b[0m\n\u001b[0;32m----> 2\u001b[0;31m \u001b[0mnp_2d\u001b[0m\u001b[0;34m[\u001b[0m\u001b[0;36m0\u001b[0m\u001b[0;34m]\u001b[0m\u001b[0;34m[\u001b[0m\u001b[0;36m2\u001b[0m\u001b[0;34m]\u001b[0m\u001b[0;34m\u001b[0m\u001b[0;34m\u001b[0m\u001b[0m\n\u001b[0m",
            "\u001b[0;31mNameError\u001b[0m: name 'np_2d' is not defined"
          ]
        }
      ]
    },
    {
      "cell_type": "code",
      "metadata": {
        "colab": {
          "base_uri": "https://localhost:8080/",
          "height": 158
        },
        "id": "OcA6GkOFxFdS",
        "outputId": "d2d3faf6-c389-45fd-addc-63cccefc60e6"
      },
      "source": [
        "np_2d[0,2]"
      ],
      "execution_count": 5,
      "outputs": [
        {
          "output_type": "error",
          "ename": "NameError",
          "evalue": "ignored",
          "traceback": [
            "\u001b[0;31m---------------------------------------------------------------------------\u001b[0m",
            "\u001b[0;31mNameError\u001b[0m                                 Traceback (most recent call last)",
            "\u001b[0;32m<ipython-input-5-a8ec12a4bbd4>\u001b[0m in \u001b[0;36m<module>\u001b[0;34m()\u001b[0m\n\u001b[0;32m----> 1\u001b[0;31m \u001b[0mnp_2d\u001b[0m\u001b[0;34m[\u001b[0m\u001b[0;36m0\u001b[0m\u001b[0;34m,\u001b[0m\u001b[0;36m2\u001b[0m\u001b[0;34m]\u001b[0m\u001b[0;34m\u001b[0m\u001b[0;34m\u001b[0m\u001b[0m\n\u001b[0m",
            "\u001b[0;31mNameError\u001b[0m: name 'np_2d' is not defined"
          ]
        }
      ]
    },
    {
      "cell_type": "code",
      "metadata": {
        "id": "xrLzKzGvR7vS"
      },
      "source": [
        "np_2d[0,:]"
      ],
      "execution_count": null,
      "outputs": []
    },
    {
      "cell_type": "code",
      "metadata": {
        "id": "3F7SKFboxU13"
      },
      "source": [
        "##¿Cómo puedo traer varios elementos según una posición especifica?\n",
        "np_2d[:,1:3]"
      ],
      "execution_count": null,
      "outputs": []
    },
    {
      "cell_type": "code",
      "metadata": {
        "id": "GcZjGrkofRue"
      },
      "source": [
        ""
      ],
      "execution_count": null,
      "outputs": []
    },
    {
      "cell_type": "markdown",
      "metadata": {
        "id": "KnUAJDDWTORO"
      },
      "source": [
        "# **3D Numpy array**"
      ]
    },
    {
      "cell_type": "code",
      "metadata": {
        "id": "u5EbFEjaT8eE",
        "colab": {
          "base_uri": "https://localhost:8080/",
          "height": 223
        },
        "outputId": "0c6b71fb-e4ed-4a4b-dadf-124e3a0ced77"
      },
      "source": [
        "datos = np.array([[[1,2],\n",
        "                  [3,5],\n",
        "                   [8,9]]\n",
        "                 ,[[4,6],\n",
        "                   [7,8],\n",
        "                   [10,11]]])"
      ],
      "execution_count": 2,
      "outputs": [
        {
          "output_type": "error",
          "ename": "NameError",
          "evalue": "ignored",
          "traceback": [
            "\u001b[0;31m---------------------------------------------------------------------------\u001b[0m",
            "\u001b[0;31mNameError\u001b[0m                                 Traceback (most recent call last)",
            "\u001b[0;32m<ipython-input-2-cc3f30b20dc9>\u001b[0m in \u001b[0;36m<module>\u001b[0;34m()\u001b[0m\n\u001b[0;32m----> 1\u001b[0;31m datos = np.array([[[1,2],\n\u001b[0m\u001b[1;32m      2\u001b[0m                   \u001b[0;34m[\u001b[0m\u001b[0;36m3\u001b[0m\u001b[0;34m,\u001b[0m\u001b[0;36m5\u001b[0m\u001b[0;34m]\u001b[0m\u001b[0;34m,\u001b[0m\u001b[0;34m\u001b[0m\u001b[0;34m\u001b[0m\u001b[0m\n\u001b[1;32m      3\u001b[0m                    [8,9]]\n\u001b[1;32m      4\u001b[0m                  ,[[4,6],\n\u001b[1;32m      5\u001b[0m                    \u001b[0;34m[\u001b[0m\u001b[0;36m7\u001b[0m\u001b[0;34m,\u001b[0m\u001b[0;36m8\u001b[0m\u001b[0;34m]\u001b[0m\u001b[0;34m,\u001b[0m\u001b[0;34m\u001b[0m\u001b[0;34m\u001b[0m\u001b[0m\n",
            "\u001b[0;31mNameError\u001b[0m: name 'np' is not defined"
          ]
        }
      ]
    },
    {
      "cell_type": "code",
      "metadata": {
        "colab": {
          "base_uri": "https://localhost:8080/",
          "height": 158
        },
        "id": "5UAc02TKZuHj",
        "outputId": "4027b986-f9c4-4578-95c4-86c08b3b7d63"
      },
      "source": [
        "print(datos)"
      ],
      "execution_count": 3,
      "outputs": [
        {
          "output_type": "error",
          "ename": "NameError",
          "evalue": "ignored",
          "traceback": [
            "\u001b[0;31m---------------------------------------------------------------------------\u001b[0m",
            "\u001b[0;31mNameError\u001b[0m                                 Traceback (most recent call last)",
            "\u001b[0;32m<ipython-input-3-ba734785905d>\u001b[0m in \u001b[0;36m<module>\u001b[0;34m()\u001b[0m\n\u001b[0;32m----> 1\u001b[0;31m \u001b[0mprint\u001b[0m\u001b[0;34m(\u001b[0m\u001b[0mdatos\u001b[0m\u001b[0;34m)\u001b[0m\u001b[0;34m\u001b[0m\u001b[0;34m\u001b[0m\u001b[0m\n\u001b[0m",
            "\u001b[0;31mNameError\u001b[0m: name 'datos' is not defined"
          ]
        }
      ]
    },
    {
      "cell_type": "code",
      "metadata": {
        "id": "yhc1Z-yEUuK0"
      },
      "source": [
        "datos[0,1,1]"
      ],
      "execution_count": null,
      "outputs": []
    },
    {
      "cell_type": "code",
      "metadata": {
        "id": "aNw9cJQsnlIr"
      },
      "source": [
        "datos.ndim"
      ],
      "execution_count": null,
      "outputs": []
    },
    {
      "cell_type": "code",
      "metadata": {
        "id": "I01rlcYo0hm_"
      },
      "source": [
        "datos.shape"
      ],
      "execution_count": null,
      "outputs": []
    },
    {
      "cell_type": "markdown",
      "metadata": {
        "id": "7ZSWj-NoK8YU"
      },
      "source": [
        "# **Estadísticas**"
      ]
    },
    {
      "cell_type": "code",
      "metadata": {
        "colab": {
          "base_uri": "https://localhost:8080/"
        },
        "id": "9kuFPeLi6Qip",
        "outputId": "62233546-8065-4d60-b172-52738b13e1b7"
      },
      "source": [
        "info = np.array([[ 10000, 23],\n",
        "              [5900 , 25],\n",
        "              [2000,  26],\n",
        "              [ 1590, 23]])\n",
        "info"
      ],
      "execution_count": null,
      "outputs": [
        {
          "output_type": "execute_result",
          "data": {
            "text/plain": [
              "array([[10000,    23],\n",
              "       [ 5900,    25],\n",
              "       [ 2000,    26],\n",
              "       [ 1590,    23]])"
            ]
          },
          "metadata": {
            "tags": []
          },
          "execution_count": 30
        }
      ]
    },
    {
      "cell_type": "code",
      "metadata": {
        "colab": {
          "base_uri": "https://localhost:8080/"
        },
        "id": "ApS45tjl64ug",
        "outputId": "09640d93-5c0c-4f7d-9527-8956bcdde6bb"
      },
      "source": [
        "np.mean(info)"
      ],
      "execution_count": null,
      "outputs": [
        {
          "output_type": "execute_result",
          "data": {
            "text/plain": [
              "2448.375"
            ]
          },
          "metadata": {
            "tags": []
          },
          "execution_count": 31
        }
      ]
    },
    {
      "cell_type": "code",
      "metadata": {
        "colab": {
          "base_uri": "https://localhost:8080/"
        },
        "id": "WWRfqmeH7C7d",
        "outputId": "2dbfa775-8cc4-42ff-f691-027beef3ce7c"
      },
      "source": [
        "np.mean(info[:,0])"
      ],
      "execution_count": null,
      "outputs": [
        {
          "output_type": "execute_result",
          "data": {
            "text/plain": [
              "4872.5"
            ]
          },
          "metadata": {
            "tags": []
          },
          "execution_count": 32
        }
      ]
    },
    {
      "cell_type": "code",
      "metadata": {
        "colab": {
          "base_uri": "https://localhost:8080/"
        },
        "id": "THB85jKL7P7_",
        "outputId": "266e8453-8348-49bc-89b5-754f50103025"
      },
      "source": [
        "np.median(info[:,0])"
      ],
      "execution_count": null,
      "outputs": [
        {
          "output_type": "execute_result",
          "data": {
            "text/plain": [
              "3950.0"
            ]
          },
          "metadata": {
            "tags": []
          },
          "execution_count": 33
        }
      ]
    },
    {
      "cell_type": "markdown",
      "metadata": {
        "id": "w6YBC0suveLC"
      },
      "source": [
        "# **Práctica**"
      ]
    },
    {
      "cell_type": "code",
      "metadata": {
        "id": "l7rDrSgaxpE1"
      },
      "source": [
        "#Crea un np_array (3dimensiones) llamado amigos,\n",
        "#imprime los atributos de shape,ndtype, size, ndim\n",
        "#calcula la medi de las edades\n",
        "#Calcula la mediana de los años de trabajo\n",
        "#Calcula la máxima edad de los amigos de Tony\n",
        "#Calcula la minima edad de trabajo de los amigos de Martín\n"
      ],
      "execution_count": 1,
      "outputs": []
    }
  ]
}