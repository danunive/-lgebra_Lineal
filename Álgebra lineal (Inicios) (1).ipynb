{
 "cells": [
  {
   "cell_type": "markdown",
   "metadata": {},
   "source": [
    "## Algebra lineal"
   ]
  },
  {
   "cell_type": "markdown",
   "metadata": {},
   "source": [
    "Perspectiva del fisica > Flecha en el espacio\n",
    "Perspectiva del programador > Listas\n",
    "perspectiva del matematico > conjunto de cosas que se pueden sumar y multiplicar\n",
    "Vector: Fecha en un sistema de coordenadas que parten del origen de coordendas. \n",
    "## La suma de vectores\n",
    "consiste en la suma de término a término.\n",
    "La multiplicación lo que hace es alargar el vector. Se utilizan los escalares para lograr esto. \n",
    "\n",
    "###  \"Algebra lineal puede ayudar a los analistas de datos a encontrar patrones en los datos.\""
   ]
  },
  {
   "cell_type": "code",
   "execution_count": 54,
   "metadata": {},
   "outputs": [
    {
     "data": {
      "text/plain": [
       "[2, 4, 6]"
      ]
     },
     "execution_count": 54,
     "metadata": {},
     "output_type": "execute_result"
    }
   ],
   "source": [
    "v1 = [2,4,6]\n",
    "v1"
   ]
  },
  {
   "cell_type": "code",
   "execution_count": 4,
   "metadata": {},
   "outputs": [],
   "source": [
    "import numpy as np"
   ]
  },
  {
   "cell_type": "code",
   "execution_count": 5,
   "metadata": {},
   "outputs": [
    {
     "data": {
      "text/plain": [
       "array([1., 1., 1.])"
      ]
     },
     "execution_count": 5,
     "metadata": {},
     "output_type": "execute_result"
    }
   ],
   "source": [
    "v2 = np.ones(3) # Vector de solo unos\n",
    "v2"
   ]
  },
  {
   "cell_type": "code",
   "execution_count": 6,
   "metadata": {},
   "outputs": [
    {
     "data": {
      "text/plain": [
       "array([1, 3, 5])"
      ]
     },
     "execution_count": 6,
     "metadata": {},
     "output_type": "execute_result"
    }
   ],
   "source": [
    "v3 = np.array([1,3,5]) # pasando una lista a las arrays de numpy\n",
    "v3"
   ]
  },
  {
   "cell_type": "code",
   "execution_count": 7,
   "metadata": {},
   "outputs": [
    {
     "data": {
      "text/plain": [
       "array([1, 2, 3, 4, 5, 6, 7])"
      ]
     },
     "execution_count": 7,
     "metadata": {},
     "output_type": "execute_result"
    }
   ],
   "source": [
    "v4 = np.arange(1,8) # Utilizando la función arange de numpy\n",
    "v4"
   ]
  },
  {
   "cell_type": "markdown",
   "metadata": {},
   "source": [
    "Operaciones con vectores\n",
    "-Suma\n",
    "-Resta\n",
    "-Multiplicación"
   ]
  },
  {
   "cell_type": "code",
   "execution_count": 12,
   "metadata": {},
   "outputs": [
    {
     "data": {
      "text/plain": [
       "(array([1, 2, 3, 4]), array([2, 4, 6, 8]))"
      ]
     },
     "execution_count": 12,
     "metadata": {},
     "output_type": "execute_result"
    }
   ],
   "source": [
    "x = np.arange(1,5)\n",
    "y = np.array([2,4,6,8])\n",
    "x,y"
   ]
  },
  {
   "cell_type": "code",
   "execution_count": 19,
   "metadata": {},
   "outputs": [
    {
     "name": "stdout",
     "output_type": "stream",
     "text": [
      "[ 3  6  9 12]\n",
      "[-1 -2 -3 -4]\n",
      "[2 4 6 8]\n"
     ]
    }
   ],
   "source": [
    "print(x + y)\n",
    "print(x-y)\n",
    "print(x*2)"
   ]
  },
  {
   "cell_type": "raw",
   "metadata": {},
   "source": [
    "Producto Escalar\n",
    "- Dos vectores son ortogonales cuando forman un ángulo recto entre sí. Si el producto escalar de dos vectores es cero, ambos vectores son ortogonales."
   ]
  },
  {
   "cell_type": "code",
   "execution_count": 20,
   "metadata": {},
   "outputs": [
    {
     "data": {
      "text/plain": [
       "60"
      ]
     },
     "execution_count": 20,
     "metadata": {},
     "output_type": "execute_result"
    }
   ],
   "source": [
    "x @ y"
   ]
  },
  {
   "cell_type": "code",
   "execution_count": 21,
   "metadata": {},
   "outputs": [
    {
     "data": {
      "text/plain": [
       "60"
      ]
     },
     "execution_count": 21,
     "metadata": {},
     "output_type": "execute_result"
    }
   ],
   "source": [
    "np.dot(x,y)"
   ]
  },
  {
   "cell_type": "code",
   "execution_count": 22,
   "metadata": {},
   "outputs": [],
   "source": [
    "a = np.array([3,4])\n",
    "b = np.array([4,-3])"
   ]
  },
  {
   "cell_type": "code",
   "execution_count": 23,
   "metadata": {},
   "outputs": [
    {
     "data": {
      "text/plain": [
       "0"
      ]
     },
     "execution_count": 23,
     "metadata": {},
     "output_type": "execute_result"
    }
   ],
   "source": [
    "a @ b"
   ]
  },
  {
   "cell_type": "markdown",
   "metadata": {},
   "source": [
    "# Matrices\n",
    "- (n x m) n = nro de filas y m = nro de columnas\n",
    "    Vector fila --- n\n",
    "    \n",
    "   Vector Columna ---m\n",
    "- Normalmente representan los coeficientes de los sistemas de ecuaciones lineales.\n",
    "- Puedo sumar y restar matrices si tienen las mismas dimensiones\n",
    "- El espacio nulo Ax = 0"
   ]
  },
  {
   "cell_type": "code",
   "execution_count": 27,
   "metadata": {},
   "outputs": [
    {
     "data": {
      "text/plain": [
       "array([[2, 3, 7],\n",
       "       [8, 5, 0],\n",
       "       [3, 3, 3]])"
      ]
     },
     "execution_count": 27,
     "metadata": {},
     "output_type": "execute_result"
    }
   ],
   "source": [
    "A = np.array([[1,3,2],\n",
    "             [1,0,0],\n",
    "             [1,2,2]])\n",
    "B = np.array([[1,0,5],\n",
    "             [7,5,0],\n",
    "             [2,1,1]])\n",
    "A + B"
   ]
  },
  {
   "cell_type": "code",
   "execution_count": 28,
   "metadata": {},
   "outputs": [
    {
     "data": {
      "text/plain": [
       "array([[ 0,  3, -3],\n",
       "       [-6, -5,  0],\n",
       "       [-1,  1,  1]])"
      ]
     },
     "execution_count": 28,
     "metadata": {},
     "output_type": "execute_result"
    }
   ],
   "source": [
    "A - B"
   ]
  },
  {
   "cell_type": "code",
   "execution_count": 29,
   "metadata": {},
   "outputs": [
    {
     "data": {
      "text/plain": [
       "(3, 3)"
      ]
     },
     "execution_count": 29,
     "metadata": {},
     "output_type": "execute_result"
    }
   ],
   "source": [
    "A.shape ## Ver las dimensiones de la matriz"
   ]
  },
  {
   "cell_type": "code",
   "execution_count": 30,
   "metadata": {},
   "outputs": [
    {
     "data": {
      "text/plain": [
       "9"
      ]
     },
     "execution_count": 30,
     "metadata": {},
     "output_type": "execute_result"
    }
   ],
   "source": [
    "A.size ## Ver la cantidad de elementos de una matriz"
   ]
  },
  {
   "cell_type": "markdown",
   "metadata": {},
   "source": [
    "- A x B no es igual a B x A"
   ]
  },
  {
   "cell_type": "code",
   "execution_count": 31,
   "metadata": {},
   "outputs": [
    {
     "data": {
      "text/plain": [
       "array([[ 1,  2,  3,  4],\n",
       "       [ 5,  6,  7,  8],\n",
       "       [ 9, 10, 11, 12]])"
      ]
     },
     "execution_count": 31,
     "metadata": {},
     "output_type": "execute_result"
    }
   ],
   "source": [
    "A = np.arange(1, 13).reshape(3, 4) #matriz de dimension 3x4\n",
    "A"
   ]
  },
  {
   "cell_type": "code",
   "execution_count": 32,
   "metadata": {},
   "outputs": [
    {
     "data": {
      "text/plain": [
       "array([[0, 1],\n",
       "       [2, 3],\n",
       "       [4, 5],\n",
       "       [6, 7]])"
      ]
     },
     "execution_count": 32,
     "metadata": {},
     "output_type": "execute_result"
    }
   ],
   "source": [
    "B = np.arange(8).reshape(4,2) #matriz de dimension 4x2\n",
    "B"
   ]
  },
  {
   "cell_type": "code",
   "execution_count": 33,
   "metadata": {},
   "outputs": [
    {
     "data": {
      "text/plain": [
       "array([[ 40,  50],\n",
       "       [ 88, 114],\n",
       "       [136, 178]])"
      ]
     },
     "execution_count": 33,
     "metadata": {},
     "output_type": "execute_result"
    }
   ],
   "source": [
    "A @ B"
   ]
  },
  {
   "cell_type": "markdown",
   "metadata": {},
   "source": [
    " # Matriz Identidad\n",
    "- Matriz cuadrada (igual número de filas y columnas) y su diagonal principal se compone de 1 y el resto con 0\n",
    "\n",
    "# Matriz Inversa\n",
    "- Es aquella matiz cuadrada que hace que la multiplicación A x A-1 sea igual a la matriz identidad\n",
    "    A x A-1 = I\n",
    "- Cuando el determinante de la matriz es nulo no existe la matriz inversa.\n",
    "\n",
    "# Determinante\n",
    "- Se calcula sobre matriz cuadrada (¿Por qué?)\n",
    "- Suma de los productos de las diagonales de la matriz en una dirección menos la suma de los productos de las diagonales en la otra dirección se representa con |A|\n",
    "\n",
    "# Matriz transpuesta\n",
    "- las filas se transforman en columnas y las columnas se transforman en filas se representa con AT"
   ]
  },
  {
   "cell_type": "code",
   "execution_count": 35,
   "metadata": {},
   "outputs": [
    {
     "data": {
      "text/plain": [
       "array([[1., 0.],\n",
       "       [0., 1.]])"
      ]
     },
     "execution_count": 35,
     "metadata": {},
     "output_type": "execute_result"
    }
   ],
   "source": [
    " I = np.eye(2)\n",
    "I"
   ]
  },
  {
   "cell_type": "code",
   "execution_count": 38,
   "metadata": {},
   "outputs": [],
   "source": [
    "A = np.array([[4,7],\n",
    "             [2,6]])"
   ]
  },
  {
   "cell_type": "code",
   "execution_count": 40,
   "metadata": {},
   "outputs": [
    {
     "data": {
      "text/plain": [
       "10.000000000000002"
      ]
     },
     "execution_count": 40,
     "metadata": {},
     "output_type": "execute_result"
    }
   ],
   "source": [
    "\n",
    "np.linalg.det(A)"
   ]
  },
  {
   "cell_type": "code",
   "execution_count": 42,
   "metadata": {},
   "outputs": [
    {
     "data": {
      "text/plain": [
       "array([[ 0.6, -0.7],\n",
       "       [-0.2,  0.4]])"
      ]
     },
     "execution_count": 42,
     "metadata": {},
     "output_type": "execute_result"
    }
   ],
   "source": [
    "# Calculando la inversa de A.\n",
    "A_inv = np.linalg.inv(A)\n",
    "A_inv"
   ]
  },
  {
   "cell_type": "code",
   "execution_count": 43,
   "metadata": {},
   "outputs": [
    {
     "data": {
      "text/plain": [
       "array([[0, 1],\n",
       "       [2, 3],\n",
       "       [4, 5]])"
      ]
     },
     "execution_count": 43,
     "metadata": {},
     "output_type": "execute_result"
    }
   ],
   "source": [
    "# Trasponiendo una matriz\n",
    "A = np.arange(6).reshape(3, 2)\n",
    "A"
   ]
  },
  {
   "cell_type": "code",
   "execution_count": 44,
   "metadata": {},
   "outputs": [
    {
     "data": {
      "text/plain": [
       "array([[0, 2, 4],\n",
       "       [1, 3, 5]])"
      ]
     },
     "execution_count": 44,
     "metadata": {},
     "output_type": "execute_result"
    }
   ],
   "source": [
    "np.transpose(A)"
   ]
  },
  {
   "cell_type": "markdown",
   "metadata": {},
   "source": [
    "# Sistema de ecuaciones lineales\n",
    " - (x -2y = 1)\n",
    " - (3x + 2y = 11)\n",
    " \n",
    " - Método de Gauss\n",
    "# - Eliminación de Gauss- jordan \n",
    "     (Las variables deben tener el mismo orden, diagonal = 1 y valores debajo de la diagonal = 0)\n",
    "     La idea  es utilizar operaciones  elementales hasta llevar un sistema de ecuaciones a una forma escalonada.\n",
    "- El sistema de ec lineales es consistente si tiene almenos  una solución. Es decir que en la matriz aumentada no tiene una fila [0,0,... m]\n",
    "- El sistema  de ec lineal tiene tres opciones de solución:\n",
    "        - única Solución\n",
    "        - Infinitas Soluciones\n",
    "        - No tiene Solución\n",
    "  \n"
   ]
  },
  {
   "cell_type": "code",
   "execution_count": 51,
   "metadata": {},
   "outputs": [
    {
     "data": {
      "text/plain": [
       "array([[ 1,  1,  1],\n",
       "       [ 2,  4,  3],\n",
       "       [10, 11,  1]])"
      ]
     },
     "execution_count": 51,
     "metadata": {},
     "output_type": "execute_result"
    }
   ],
   "source": [
    " A = np.array([[1, 1, 1],\n",
    "              [2,4,3],\n",
    "              [10,11,1]])\n",
    "A"
   ]
  },
  {
   "cell_type": "code",
   "execution_count": 52,
   "metadata": {},
   "outputs": [
    {
     "data": {
      "text/plain": [
       "array([ 3,  9, 22])"
      ]
     },
     "execution_count": 52,
     "metadata": {},
     "output_type": "execute_result"
    }
   ],
   "source": [
    "#Matriz de resultados\n",
    "b = np.array ([3,9,22])\n",
    "b"
   ]
  },
  {
   "cell_type": "code",
   "execution_count": 53,
   "metadata": {},
   "outputs": [
    {
     "data": {
      "text/plain": [
       "array([1., 1., 1.])"
      ]
     },
     "execution_count": 53,
     "metadata": {},
     "output_type": "execute_result"
    }
   ],
   "source": [
    "x = np.linalg.solve(A, b)\n",
    "x"
   ]
  },
  {
   "cell_type": "markdown",
   "metadata": {},
   "source": [
    "\n",
    "# Fuentes\n",
    "\n",
    "https://www.youtube.com/watch?v=wiuEEkP_XuM\n",
    "\n",
    "https://relopezbriega.github.io/blog/2015/06/14/algebra-lineal-con-python/\n",
    "\n",
    "https://unipython.com/numpy-algebra/\n"
   ]
  },
  {
   "cell_type": "code",
   "execution_count": null,
   "metadata": {},
   "outputs": [],
   "source": []
  }
 ],
 "metadata": {
  "kernelspec": {
   "display_name": "Python 3",
   "language": "python",
   "name": "python3"
  },
  "language_info": {
   "codemirror_mode": {
    "name": "ipython",
    "version": 3
   },
   "file_extension": ".py",
   "mimetype": "text/x-python",
   "name": "python",
   "nbconvert_exporter": "python",
   "pygments_lexer": "ipython3",
   "version": "3.6.5"
  }
 },
 "nbformat": 4,
 "nbformat_minor": 2
}
